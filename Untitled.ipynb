{
 "cells": [
  {
   "cell_type": "code",
   "execution_count": 1,
   "id": "7aaf54e8",
   "metadata": {},
   "outputs": [
    {
     "name": "stdout",
     "output_type": "stream",
     "text": [
      "Collecting ibm_watson\n",
      "  Downloading ibm-watson-5.2.2.tar.gz (407 kB)\n",
      "  Installing build dependencies: started\n",
      "  Installing build dependencies: finished with status 'done'\n",
      "  Getting requirements to build wheel: started\n",
      "  Getting requirements to build wheel: finished with status 'done'\n",
      "    Preparing wheel metadata: started\n",
      "    Preparing wheel metadata: finished with status 'done'\n",
      "Collecting ibm-cloud-sdk-core==3.*,>=3.3.6\n",
      "  Downloading ibm-cloud-sdk-core-3.10.1.tar.gz (40 kB)\n",
      "Requirement already satisfied: requests<3.0,>=2.0 in c:\\users\\nsx_1\\appdata\\local\\programs\\python\\python39\\lib\\site-packages (from ibm_watson) (2.25.1)\n",
      "Requirement already satisfied: websocket-client==1.1.0 in c:\\users\\nsx_1\\appdata\\local\\programs\\python\\python39\\lib\\site-packages (from ibm_watson) (1.1.0)\n",
      "Requirement already satisfied: python-dateutil>=2.5.3 in c:\\users\\nsx_1\\appdata\\local\\programs\\python\\python39\\lib\\site-packages (from ibm_watson) (2.8.1)\n",
      "Collecting PyJWT<3.0.0,>=2.0.1\n",
      "  Downloading PyJWT-2.1.0-py3-none-any.whl (16 kB)\n",
      "Requirement already satisfied: six>=1.5 in c:\\users\\nsx_1\\appdata\\local\\programs\\python\\python39\\lib\\site-packages (from python-dateutil>=2.5.3->ibm_watson) (1.16.0)\n",
      "Requirement already satisfied: chardet<5,>=3.0.2 in c:\\users\\nsx_1\\appdata\\local\\programs\\python\\python39\\lib\\site-packages (from requests<3.0,>=2.0->ibm_watson) (4.0.0)\n",
      "Requirement already satisfied: idna<3,>=2.5 in c:\\users\\nsx_1\\appdata\\local\\programs\\python\\python39\\lib\\site-packages (from requests<3.0,>=2.0->ibm_watson) (2.10)\n",
      "Requirement already satisfied: certifi>=2017.4.17 in c:\\users\\nsx_1\\appdata\\local\\programs\\python\\python39\\lib\\site-packages (from requests<3.0,>=2.0->ibm_watson) (2021.5.30)\n",
      "Requirement already satisfied: urllib3<1.27,>=1.21.1 in c:\\users\\nsx_1\\appdata\\local\\programs\\python\\python39\\lib\\site-packages (from requests<3.0,>=2.0->ibm_watson) (1.26.6)\n",
      "Using legacy 'setup.py install' for ibm-cloud-sdk-core, since package 'wheel' is not installed.\n",
      "Building wheels for collected packages: ibm-watson\n",
      "  Building wheel for ibm-watson (PEP 517): started\n",
      "  Building wheel for ibm-watson (PEP 517): finished with status 'done'\n",
      "  Created wheel for ibm-watson: filename=ibm_watson-5.2.2-py3-none-any.whl size=403389 sha256=0468878862499fe160dbea235be8c416d35f4e1c9a7c8e08f916d4bc54831304\n",
      "  Stored in directory: c:\\users\\nsx_1\\appdata\\local\\pip\\cache\\wheels\\34\\e8\\df\\99bea14508f3730b081509ae94a9fb3e876f33aeb465688532\n",
      "Successfully built ibm-watson\n",
      "Installing collected packages: PyJWT, ibm-cloud-sdk-core, ibm-watson\n",
      "    Running setup.py install for ibm-cloud-sdk-core: started\n",
      "    Running setup.py install for ibm-cloud-sdk-core: finished with status 'done'\n",
      "Successfully installed PyJWT-2.1.0 ibm-cloud-sdk-core-3.10.1 ibm-watson-5.2.2\n",
      "Note: you may need to restart the kernel to use updated packages.\n"
     ]
    }
   ],
   "source": [
    "pip install ibm_watson"
   ]
  },
  {
   "cell_type": "code",
   "execution_count": 2,
   "id": "bebbb6f6",
   "metadata": {},
   "outputs": [
    {
     "name": "stdout",
     "output_type": "stream",
     "text": [
      "Requirement already satisfied: ibm_cloud_sdk_core in c:\\users\\nsx_1\\appdata\\local\\programs\\python\\python39\\lib\\site-packages (3.10.1)\n",
      "Requirement already satisfied: requests<3.0,>=2.20 in c:\\users\\nsx_1\\appdata\\local\\programs\\python\\python39\\lib\\site-packages (from ibm_cloud_sdk_core) (2.25.1)\n",
      "Requirement already satisfied: python_dateutil<3.0.0,>=2.5.3 in c:\\users\\nsx_1\\appdata\\local\\programs\\python\\python39\\lib\\site-packages (from ibm_cloud_sdk_core) (2.8.1)\n",
      "Requirement already satisfied: PyJWT<3.0.0,>=2.0.1 in c:\\users\\nsx_1\\appdata\\local\\programs\\python\\python39\\lib\\site-packages (from ibm_cloud_sdk_core) (2.1.0)\n",
      "Requirement already satisfied: six>=1.5 in c:\\users\\nsx_1\\appdata\\local\\programs\\python\\python39\\lib\\site-packages (from python_dateutil<3.0.0,>=2.5.3->ibm_cloud_sdk_core) (1.16.0)\n",
      "Requirement already satisfied: idna<3,>=2.5 in c:\\users\\nsx_1\\appdata\\local\\programs\\python\\python39\\lib\\site-packages (from requests<3.0,>=2.20->ibm_cloud_sdk_core) (2.10)\n",
      "Requirement already satisfied: urllib3<1.27,>=1.21.1 in c:\\users\\nsx_1\\appdata\\local\\programs\\python\\python39\\lib\\site-packages (from requests<3.0,>=2.20->ibm_cloud_sdk_core) (1.26.6)\n",
      "Requirement already satisfied: chardet<5,>=3.0.2 in c:\\users\\nsx_1\\appdata\\local\\programs\\python\\python39\\lib\\site-packages (from requests<3.0,>=2.20->ibm_cloud_sdk_core) (4.0.0)\n",
      "Requirement already satisfied: certifi>=2017.4.17 in c:\\users\\nsx_1\\appdata\\local\\programs\\python\\python39\\lib\\site-packages (from requests<3.0,>=2.20->ibm_cloud_sdk_core) (2021.5.30)\n",
      "Note: you may need to restart the kernel to use updated packages.\n"
     ]
    }
   ],
   "source": [
    "pip install ibm_cloud_sdk_core"
   ]
  },
  {
   "cell_type": "code",
   "execution_count": 4,
   "id": "1bd128d8",
   "metadata": {},
   "outputs": [],
   "source": [
    "from ibm_watson import TextToSpeechV1"
   ]
  },
  {
   "cell_type": "code",
   "execution_count": 5,
   "id": "98682e10",
   "metadata": {},
   "outputs": [],
   "source": [
    "from ibm_cloud_sdk_core.authenticators import IAMAuthenticator"
   ]
  },
  {
   "cell_type": "code",
   "execution_count": 6,
   "id": "36aa614f",
   "metadata": {},
   "outputs": [],
   "source": [
    "api = IAMAuthenticator(\"To7kNaPCJQSJqC36o7AnSpKBhAGU-bBTWQwgTZYyX8s1\")"
   ]
  },
  {
   "cell_type": "code",
   "execution_count": 8,
   "id": "a8740115",
   "metadata": {},
   "outputs": [],
   "source": [
    "text_2_speech = TextToSpeechV1(authenticator=api)"
   ]
  },
  {
   "cell_type": "code",
   "execution_count": 9,
   "id": "360e20a3",
   "metadata": {},
   "outputs": [],
   "source": [
    "text_2_speech.set_service_url(\"https://api.eu-gb.text-to-speech.watson.cloud.ibm.com/instances/e8562af6-0e60-4432-a948-742dfecc3278\")"
   ]
  },
  {
   "cell_type": "code",
   "execution_count": 11,
   "id": "c23d4c8d",
   "metadata": {},
   "outputs": [],
   "source": [
    "with open(\"welcoom.mp3\", \"wb\") as audiofile:\n",
    "    audiofile.write(\n",
    "    text_2_speech.synthesize(\"hello my name is nora saeid almutairy, iam from saudi arabia and iam student at imam muhammad university\", accept=\"audio/mp3\").get_result().content\n",
    "    )"
   ]
  },
  {
   "cell_type": "code",
   "execution_count": null,
   "id": "86fcdb7c",
   "metadata": {},
   "outputs": [],
   "source": []
  }
 ],
 "metadata": {
  "kernelspec": {
   "display_name": "Python 3 (ipykernel)",
   "language": "python",
   "name": "python3"
  },
  "language_info": {
   "codemirror_mode": {
    "name": "ipython",
    "version": 3
   },
   "file_extension": ".py",
   "mimetype": "text/x-python",
   "name": "python",
   "nbconvert_exporter": "python",
   "pygments_lexer": "ipython3",
   "version": "3.9.6"
  }
 },
 "nbformat": 4,
 "nbformat_minor": 5
}
